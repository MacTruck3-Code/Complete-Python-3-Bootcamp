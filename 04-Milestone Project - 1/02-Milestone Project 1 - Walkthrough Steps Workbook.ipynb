{
 "cells": [
  {
   "cell_type": "markdown",
   "metadata": {},
   "source": [
    "___\n",
    "\n",
    "<a href='https://www.udemy.com/user/joseportilla/'><img src='../Pierian_Data_Logo.png'/></a>\n",
    "___\n",
    "<center><em>Content Copyright by Pierian Data</em></center>"
   ]
  },
  {
   "cell_type": "markdown",
   "metadata": {},
   "source": [
    "# Milestone Project 1: Walkthrough Steps Workbook\n",
    "\n",
    "Below is a set of steps for you to follow to try to create the Tic Tac Toe Milestone Project game!"
   ]
  },
  {
   "cell_type": "markdown",
   "metadata": {},
   "source": [
    "#### Some suggested tools before you get started:\n",
    "To take input from a user:\n",
    "\n",
    "    player1 = input(\"Please pick a marker 'X' or 'O'\")\n",
    "    \n",
    "Note that input() takes in a string. If you need an integer value, use\n",
    "\n",
    "    position = int(input('Please enter a number'))\n",
    "    \n",
    "<br>To clear the screen between moves:\n",
    "\n",
    "    from IPython.display import clear_output\n",
    "    clear_output()\n",
    "    \n",
    "Note that clear_output() will only work in jupyter. To clear the screen in other IDEs, consider:\n",
    "\n",
    "    print('\\n'*100)\n",
    "    \n",
    "This scrolls the previous board up out of view. Now on to the program!"
   ]
  },
  {
   "cell_type": "markdown",
   "metadata": {},
   "source": [
    "**Step 1: Write a function that can print out a board. Set up your board as a list, where each index 1-9 corresponds with a number on a number pad, so you get a 3 by 3 board representation.**"
   ]
  },
  {
   "cell_type": "code",
   "execution_count": 1,
   "metadata": {
    "collapsed": true
   },
   "outputs": [],
   "source": [
    "from IPython.display import clear_output\n",
    "\n",
    "def display_board(board):\n",
    "    \n",
    "    clear_output()\n",
    "\n",
    "    print('-------')\n",
    "    print('|' + board[1] + '|' + board[2] + '|' + board[3] + '|'  )\n",
    "    print('|_|_|_|')\n",
    "    print('|' + board[4] + '|' + board[5] + '|' + board[6] + '|'  )\n",
    "    print('|_|_|_|')\n",
    "    print('|' + board[7] + '|' + board[8] + '|' + board[9] + '|'  )\n",
    "    print('-------')"
   ]
  },
  {
   "cell_type": "markdown",
   "metadata": {},
   "source": [
    "**TEST Step 1:** run your function on a test version of the board list, and make adjustments as necessary"
   ]
  },
  {
   "cell_type": "code",
   "execution_count": 2,
   "metadata": {
    "collapsed": true,
    "tags": []
   },
   "outputs": [
    {
     "output_type": "stream",
     "name": "stdout",
     "text": "-------\n| | | |\n|_|_|_|\n| | | |\n|_|_|_|\n| | | |\n-------\n"
    }
   ],
   "source": [
    "#test_board = ['#','X','O','X','O','X','O','X','O','X']\n",
    "#display_board(test_board)\n",
    "test_board = ['#',' ',' ',' ',' ',' ',' ',' ',' ',' ']\n",
    "display_board(test_board)"
   ]
  },
  {
   "cell_type": "markdown",
   "metadata": {},
   "source": [
    "**Step 2: Write a function that can take in a player input and assign their marker as 'X' or 'O'. Think about using *while* loops to continually ask until you get a correct answer.**"
   ]
  },
  {
   "cell_type": "code",
   "execution_count": 3,
   "metadata": {
    "collapsed": true
   },
   "outputs": [],
   "source": [
    "def player_input():\n",
    "    \n",
    "    player = 'WRONG'\n",
    "\n",
    "    while player not in ['X', 'O']:\n",
    "        player = input(\"Player 1, select a maker: 'X' or 'O'\").upper()\n",
    "    \n",
    "        if player not in ['X', 'O']:\n",
    "            clear_output()\n",
    "            print(\"Sorry did not recognize reponse. Please select a maker: 'X' or 'O \")\n",
    "\n",
    "    \n",
    "    player1 = player\n",
    "    if player1 == 'X':\n",
    "        player2 = 'O'\n",
    "    else:\n",
    "        player2 = 'X'\n",
    "\n",
    "    clear_output()\n",
    "\n",
    "    return (player1, player2)\n",
    "    \n"
   ]
  },
  {
   "cell_type": "markdown",
   "metadata": {},
   "source": [
    "**TEST Step 2:** run the function to make sure it returns the desired output"
   ]
  },
  {
   "cell_type": "code",
   "execution_count": 4,
   "metadata": {
    "collapsed": true,
    "tags": []
   },
   "outputs": [],
   "source": [
    "#player1_marker, player2_marker = player_input()"
   ]
  },
  {
   "cell_type": "code",
   "execution_count": 5,
   "metadata": {},
   "outputs": [],
   "source": [
    "#player1_marker"
   ]
  },
  {
   "cell_type": "code",
   "execution_count": 6,
   "metadata": {},
   "outputs": [],
   "source": [
    "#player2_marker"
   ]
  },
  {
   "cell_type": "markdown",
   "metadata": {},
   "source": [
    "**Step 3: Write a function that takes in the board list object, a marker ('X' or 'O'), and a desired position (number 1-9) and assigns it to the board.**"
   ]
  },
  {
   "cell_type": "code",
   "execution_count": 7,
   "metadata": {
    "collapsed": true
   },
   "outputs": [],
   "source": [
    "def place_marker(board, marker, position):\n",
    "    \n",
    "    board[position] = marker"
   ]
  },
  {
   "cell_type": "markdown",
   "metadata": {},
   "source": [
    "**TEST Step 3:** run the place marker function using test parameters and display the modified board"
   ]
  },
  {
   "cell_type": "code",
   "execution_count": 8,
   "metadata": {
    "collapsed": true,
    "tags": []
   },
   "outputs": [
    {
     "output_type": "stream",
     "name": "stdout",
     "text": "-------\n| | | |\n|_|_|_|\n| | | |\n|_|_|_|\n| |$| |\n-------\n"
    }
   ],
   "source": [
    "place_marker(test_board,'$',8)\n",
    "display_board(test_board)"
   ]
  },
  {
   "cell_type": "markdown",
   "metadata": {},
   "source": [
    "**Step 4: Write a function that takes in a board and a mark (X or O) and then checks to see if that mark has won. **"
   ]
  },
  {
   "cell_type": "code",
   "execution_count": 9,
   "metadata": {
    "collapsed": true
   },
   "outputs": [],
   "source": [
    "def win_check(board, mark):\n",
    "    \n",
    "    if board[1] == board[2] == board[3] == mark:\n",
    "       return True\n",
    "    elif board[4] == board[5] == board[6] == mark:\n",
    "       return True\n",
    "    elif board[7] == board[8] == board[9] == mark:\n",
    "       return True\n",
    "    elif board[1] == board[4] == board[7] == mark:\n",
    "       return True\n",
    "    elif board[2] == board[5] == board[8] == mark:\n",
    "       return True\n",
    "    elif board[3] == board[6] == board[9] == mark:\n",
    "       return True\n",
    "    elif board[1] == board[5] == board[9] == mark:\n",
    "       return True\n",
    "    elif board[3] == board[5] == board[7] == mark:\n",
    "       return True\n",
    "    else:\n",
    "        return False"
   ]
  },
  {
   "cell_type": "markdown",
   "metadata": {},
   "source": [
    "**TEST Step 4:** run the win_check function against our test_board - it should return True"
   ]
  },
  {
   "cell_type": "code",
   "execution_count": 10,
   "metadata": {
    "collapsed": true,
    "tags": []
   },
   "outputs": [
    {
     "output_type": "execute_result",
     "data": {
      "text/plain": "False"
     },
     "metadata": {},
     "execution_count": 10
    }
   ],
   "source": [
    "win_check(test_board,'X')"
   ]
  },
  {
   "cell_type": "markdown",
   "metadata": {},
   "source": [
    "**Step 5: Write a function that uses the random module to randomly decide which player goes first. You may want to lookup random.randint() Return a string of which player went first.**"
   ]
  },
  {
   "cell_type": "code",
   "execution_count": 11,
   "metadata": {
    "collapsed": true
   },
   "outputs": [],
   "source": [
    "import random\n",
    "\n",
    "def choose_first():\n",
    "\n",
    "    player1_num = random.randint(0, 10)\n",
    "    player2_num = random.randint(0, 10)\n",
    "\n",
    "    if player1_num > player2_num:\n",
    "        print('Player 1, ' + player1_marker + ', goes first!')\n",
    "        return 'Player 1'\n",
    "    else:\n",
    "        print('Player 2, ' + player2_marker + ', goes first!')\n",
    "        return 'Player 2'"
   ]
  },
  {
   "cell_type": "markdown",
   "metadata": {},
   "source": [
    "**Step 6: Write a function that returns a boolean indicating whether a space on the board is freely available.**"
   ]
  },
  {
   "cell_type": "code",
   "execution_count": 12,
   "metadata": {
    "collapsed": true
   },
   "outputs": [],
   "source": [
    "def space_check(board, position):\n",
    "    \n",
    "    return board[position] == ' '"
   ]
  },
  {
   "cell_type": "markdown",
   "metadata": {},
   "source": [
    "**Step 7: Write a function that checks if the board is full and returns a boolean value. True if full, False otherwise.**"
   ]
  },
  {
   "cell_type": "code",
   "execution_count": 13,
   "metadata": {
    "collapsed": true
   },
   "outputs": [],
   "source": [
    "def full_board_check(board):\n",
    "    \n",
    "    for _ in range(1, len(board)):\n",
    "        if board[_] == ' ':\n",
    "            return False\n",
    "        else:\n",
    "            pass\n",
    "\n",
    "    return True"
   ]
  },
  {
   "cell_type": "markdown",
   "metadata": {},
   "source": [
    "**Step 8: Write a function that asks for a player's next position (as a number 1-9) and then uses the function from step 6 to check if it's a free position. If it is, then return the position for later use.**"
   ]
  },
  {
   "cell_type": "code",
   "execution_count": 14,
   "metadata": {
    "collapsed": true
   },
   "outputs": [],
   "source": [
    "def player_choice(board, player):\n",
    "    \n",
    "    position_choice = 'Invalid'\n",
    "\n",
    "    while position_choice != 'Valid':\n",
    "\n",
    "        player_num = input(player + ', select a position via number 1-9')\n",
    "\n",
    "        if player_num.isdigit() == False or int(player_num) not in range(1,10):\n",
    "            clear_output()\n",
    "            display_board(board)\n",
    "            print('Sorry, did not recognize reponse. ' + player + ', please select a position via number 1-9')\n",
    "        else:\n",
    "            free_space = space_check(board, int(player_num))\n",
    "            if free_space:\n",
    "                position_choice = 'Valid'\n",
    "            else:\n",
    "                print('Space is taken. Try again!')\n",
    "\n",
    "    return int(player_num)"
   ]
  },
  {
   "cell_type": "markdown",
   "metadata": {},
   "source": [
    "**Step 9: Write a function that asks the player if they want to play again and returns a boolean True if they do want to play again.**"
   ]
  },
  {
   "cell_type": "code",
   "execution_count": 15,
   "metadata": {
    "collapsed": true
   },
   "outputs": [],
   "source": [
    "def replay():\n",
    "    \n",
    "    replay_choice = 'Invalid'\n",
    "\n",
    "    while replay_choice not in ['Y', 'N']:\n",
    "\n",
    "        replay_choice = input(\"Would you like to play again? Press 'Y' or 'N'\").upper()\n",
    "\n",
    "        if replay_choice not in ['Y', 'N']:\n",
    "            clear_output()\n",
    "            print(\"Sorry, not a valid response. Would you like to play again? Press 'Y' or 'N'\")\n",
    "\n",
    "    return replay_choice == 'Y'\n",
    "\n"
   ]
  },
  {
   "cell_type": "markdown",
   "metadata": {
    "collapsed": true
   },
   "source": [
    "**Step 10: Here comes the hard part! Use while loops and the functions you've made to run the game!**"
   ]
  },
  {
   "cell_type": "code",
   "execution_count": 16,
   "metadata": {
    "collapsed": true,
    "tags": []
   },
   "outputs": [
    {
     "output_type": "stream",
     "name": "stdout",
     "text": "-------\n|X|O|X|\n|_|_|_|\n|O|O|X|\n|_|_|_|\n|X|X|O|\n-------\nGame is tied!\nGood Game. Come back again!\n"
    }
   ],
   "source": [
    "print('Welcome to Tic Tac Toe!')\n",
    "\n",
    "while True:\n",
    "\n",
    "    player1_marker, player2_marker = player_input()\n",
    "\n",
    "    # Set the game up here\n",
    "    game_board = ['#',' ',' ',' ',' ',' ',' ',' ',' ',' ']\n",
    "    display_board(game_board)\n",
    "    turn = choose_first()\n",
    "\n",
    "    while not full_board_check(game_board):\n",
    "\n",
    "        if turn == 'Player 1':\n",
    "            #Player 1 Turn\n",
    "            player1_choice = player_choice(game_board, 'Player 1')\n",
    "            place_marker(game_board, player1_marker, player1_choice)\n",
    "            player1_win = win_check(game_board, player1_marker)\n",
    "            display_board(game_board)\n",
    "\n",
    "            if player1_win:\n",
    "                print('Player 1 wins!')\n",
    "                break\n",
    "            elif full_board_check(game_board):\n",
    "                print('Game is tied!')\n",
    "                break\n",
    "            else:\n",
    "                turn = 'Player 2'\n",
    "        else:\n",
    "            # Player2's turn.\n",
    "            player2_choice = player_choice(game_board, 'Player 2')\n",
    "            place_marker(game_board, player2_marker, player2_choice)\n",
    "            player2_win = win_check(game_board, player2_marker)\n",
    "            display_board(game_board)\n",
    "\n",
    "            if player2_win:\n",
    "                print('Player 2 wins!')\n",
    "                break\n",
    "            elif full_board_check(game_board):\n",
    "                print('Game is tied!')\n",
    "                break\n",
    "            else:\n",
    "                turn = 'Player 1'\n",
    "\n",
    "    if not replay():\n",
    "        print('Good Game. Come back again!')\n",
    "        break"
   ]
  },
  {
   "cell_type": "markdown",
   "metadata": {
    "collapsed": true
   },
   "source": [
    "## Good Job!"
   ]
  }
 ],
 "metadata": {
  "kernelspec": {
   "name": "Python 3.7.3 64-bit",
   "display_name": "Python 3.7.3 64-bit",
   "metadata": {
    "interpreter": {
     "hash": "31f2aee4e71d21fbe5cf8b01ff0e069b9275f58929596ceb00d14d90e3e16cd6"
    }
   }
  },
  "language_info": {
   "codemirror_mode": {
    "name": "ipython",
    "version": 3
   },
   "file_extension": ".py",
   "mimetype": "text/x-python",
   "name": "python",
   "nbconvert_exporter": "python",
   "pygments_lexer": "ipython3",
   "version": "3.7.3-final"
  }
 },
 "nbformat": 4,
 "nbformat_minor": 1
}